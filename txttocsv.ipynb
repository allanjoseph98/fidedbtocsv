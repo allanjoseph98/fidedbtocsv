{
 "cells": [
  {
   "cell_type": "code",
   "execution_count": 7,
   "metadata": {},
   "outputs": [],
   "source": [
    "import zipfile\n",
    "import re\n",
    "\n",
    "def to_csvstr(line: str, starts: list[int]):\n",
    "    return (\n",
    "        '\",'.join(\n",
    "            ['\"' + line[start:stop].strip() for start, stop in zip(starts, starts[1:])]\n",
    "        )\n",
    "        + '\"\\n'\n",
    "    )\n",
    "\n",
    "\n",
    "with zipfile.ZipFile(\"players_list.zip\") as z:\n",
    "    with z.open(\"players_list_foa.txt\", \"r\") as file:\n",
    "        with open(\"inbetween.csv\", \"+a\") as out_file:\n",
    "            header = (\n",
    "                file.readline().decode(\"utf-8\").replace(\"ID Number\", \"IDNumber\")\n",
    "            )  # sigh\n",
    "            starts = [m.span()[0] for m in re.finditer(r\"([\\w-]+)\", header)]\n",
    "            out_file.write(to_csvstr(header, starts))\n",
    "            for line in file:\n",
    "                decoded = line.decode(\"utf-8\")\n",
    "                out_file.write(to_csvstr(decoded, starts))"
   ]
  },
  {
   "cell_type": "code",
   "execution_count": 10,
   "metadata": {},
   "outputs": [],
   "source": [
    "import pandas as pd\n",
    "\n",
    "REPLACE_SCHEMA = {\n",
    "    \"IDNumber\": \"fideId\",\n",
    "    \"Name\": \"name\",\n",
    "    \"Tit\": \"title\",\n",
    "    \"SRtng\": \"standardRating\",\n",
    "    \"RRtng\": \"rapidRating\",\n",
    "    \"BRtng\": \"blitzRating\",\n",
    "}\n",
    "df = pd.read_csv(\"inbetween.csv\", dtype_backend=\"pyarrow\")\n",
    "df.drop(columns=list(set(df.columns).difference(REPLACE_SCHEMA.keys())), inplace=True)\n",
    "df.rename(columns=REPLACE_SCHEMA, inplace=True)\n",
    "df.to_csv('fide.csv', index=False)"
   ]
  },
  {
   "cell_type": "code",
   "execution_count": null,
   "metadata": {},
   "outputs": [],
   "source": []
  }
 ],
 "metadata": {
  "kernelspec": {
   "display_name": "Python 3",
   "language": "python",
   "name": "python3"
  },
  "language_info": {
   "codemirror_mode": {
    "name": "ipython",
    "version": 3
   },
   "file_extension": ".py",
   "mimetype": "text/x-python",
   "name": "python",
   "nbconvert_exporter": "python",
   "pygments_lexer": "ipython3",
   "version": "3.10.10"
  }
 },
 "nbformat": 4,
 "nbformat_minor": 2
}
